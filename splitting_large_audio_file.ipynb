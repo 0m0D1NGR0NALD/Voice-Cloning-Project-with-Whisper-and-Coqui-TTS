{
 "cells": [
  {
   "cell_type": "code",
   "execution_count": null,
   "id": "d2d481cd",
   "metadata": {},
   "outputs": [],
   "source": [
    "!pip install pydub"
   ]
  },
  {
   "cell_type": "code",
   "execution_count": null,
   "id": "d35a8847",
   "metadata": {},
   "outputs": [],
   "source": [
    "from pydub import AudioSegment\n",
    "import os"
   ]
  },
  {
   "cell_type": "code",
   "execution_count": null,
   "id": "cf8a6591",
   "metadata": {},
   "outputs": [],
   "source": [
    "# set the path to your large audio file\n",
    "audio_path = \"final.wav\" # 1 hour length"
   ]
  },
  {
   "cell_type": "code",
   "execution_count": null,
   "id": "ba541318",
   "metadata": {},
   "outputs": [],
   "source": [
    "# set the length of each clip in milliseconds (20 seconds in this case)\n",
    "clip_length = 20000"
   ]
  },
  {
   "cell_type": "code",
   "execution_count": null,
   "id": "187f75cd",
   "metadata": {},
   "outputs": [],
   "source": [
    "# create an AudioSegment object from the audio file\n",
    "audio = AudioSegment.from_file(audio_path)"
   ]
  },
  {
   "cell_type": "code",
   "execution_count": null,
   "id": "13f8333d",
   "metadata": {},
   "outputs": [],
   "source": [
    "# get the total length of the audio file in milliseconds\n",
    "audio_length = len(audio)"
   ]
  }
 ],
 "metadata": {
  "kernelspec": {
   "display_name": "Python 3 (ipykernel)",
   "language": "python",
   "name": "python3"
  },
  "language_info": {
   "codemirror_mode": {
    "name": "ipython",
    "version": 3
   },
   "file_extension": ".py",
   "mimetype": "text/x-python",
   "name": "python",
   "nbconvert_exporter": "python",
   "pygments_lexer": "ipython3",
   "version": "3.9.13"
  }
 },
 "nbformat": 4,
 "nbformat_minor": 5
}
