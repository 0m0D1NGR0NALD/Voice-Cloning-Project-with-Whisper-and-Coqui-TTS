{
 "cells": [
  {
   "cell_type": "code",
   "execution_count": null,
   "id": "d3a98056",
   "metadata": {},
   "outputs": [],
   "source": [
    "!pip install pydub"
   ]
  },
  {
   "cell_type": "markdown",
   "id": "68f731e6",
   "metadata": {},
   "source": [
    "## Splitting Audio File"
   ]
  },
  {
   "cell_type": "code",
   "execution_count": null,
   "id": "a8ff476d",
   "metadata": {},
   "outputs": [],
   "source": [
    "from pydub import AudioSegment\n",
    "import os"
   ]
  },
  {
   "cell_type": "code",
   "execution_count": null,
   "id": "70a5ed1d",
   "metadata": {},
   "outputs": [],
   "source": [
    "# set the path to your large audio file\n",
    "audio_path = \"audio.wav\" # 1 hour length"
   ]
  },
  {
   "cell_type": "code",
   "execution_count": null,
   "id": "802884b5",
   "metadata": {},
   "outputs": [],
   "source": [
    "# set the length of each clip in milliseconds (20 seconds in this case)\n",
    "clip_length = 20000"
   ]
  },
  {
   "cell_type": "code",
   "execution_count": null,
   "id": "f758c3dd",
   "metadata": {},
   "outputs": [],
   "source": [
    "# create an AudioSegment object from the audio file\n",
    "audio = AudioSegment.from_file(audio_path)"
   ]
  },
  {
   "cell_type": "code",
   "execution_count": null,
   "id": "b8ea4281",
   "metadata": {},
   "outputs": [],
   "source": [
    "# get the total length of the audio file in milliseconds\n",
    "audio_length = len(audio)"
   ]
  },
  {
   "cell_type": "code",
   "execution_count": null,
   "id": "c15bdfce",
   "metadata": {},
   "outputs": [],
   "source": [
    "# calculate the number of clips we need to create\n",
    "num_clips = int(audio_length/clip_length) + 1"
   ]
  },
  {
   "cell_type": "code",
   "execution_count": null,
   "id": "b5c798d1",
   "metadata": {},
   "outputs": [],
   "source": [
    "# create a directory to store the clips\n",
    "output_dir = \"Audio\"\n",
    "if not os.path.exists(output_dir):\n",
    "    os.makedirs(output_dir)"
   ]
  },
  {
   "cell_type": "code",
   "execution_count": null,
   "id": "f500d3bc",
   "metadata": {},
   "outputs": [],
   "source": [
    "# loop through the audio file and extract each clip\n",
    "for i in range(num_clips):\n",
    "    # calculate the start and end time for the clip\n",
    "    start_time = i * clip_length\n",
    "    end_time = min((i+1) * clip_length, audio_length)\n",
    "    \n",
    "    # extract the clip\n",
    "    clip = audio[start_time:end_time]\n",
    "    \n",
    "    # save the clip to a file\n",
    "    clip.export(os.path.join(output_dir, f\"voice_{i}.wav\"), format=\"wav\")"
   ]
  },
  {
   "cell_type": "markdown",
   "id": "a557d9b6",
   "metadata": {},
   "source": [
    "## Audio Transcription"
   ]
  },
  {
   "cell_type": "code",
   "execution_count": null,
   "id": "4d931e95",
   "metadata": {},
   "outputs": [],
   "source": [
    "# Install the required code libraries\n",
    "!pip install git+https://github.com/openai/whisper.git \n",
    "!sudo apt update && sudo apt install ffmpeg\n",
    "!pip install librosa"
   ]
  },
  {
   "cell_type": "code",
   "execution_count": null,
   "id": "3364af16",
   "metadata": {},
   "outputs": [],
   "source": [
    "import whisper\n",
    "import time\n",
    "import librosa\n",
    "import soundfile as sf\n",
    "import re\n",
    "import os"
   ]
  }
 ],
 "metadata": {
  "kernelspec": {
   "display_name": "Python 3 (ipykernel)",
   "language": "python",
   "name": "python3"
  },
  "language_info": {
   "codemirror_mode": {
    "name": "ipython",
    "version": 3
   },
   "file_extension": ".py",
   "mimetype": "text/x-python",
   "name": "python",
   "nbconvert_exporter": "python",
   "pygments_lexer": "ipython3",
   "version": "3.9.13"
  }
 },
 "nbformat": 4,
 "nbformat_minor": 5
}
