{
 "cells": [
  {
   "cell_type": "code",
   "execution_count": null,
   "id": "0c6266c2",
   "metadata": {},
   "outputs": [],
   "source": [
    "!pip install pydub"
   ]
  },
  {
   "cell_type": "code",
   "execution_count": null,
   "id": "6bf3e586",
   "metadata": {},
   "outputs": [],
   "source": [
    "from pydub import AudioSegment\n",
    "import os"
   ]
  },
  {
   "cell_type": "code",
   "execution_count": null,
   "id": "431dbb41",
   "metadata": {},
   "outputs": [],
   "source": [
    "# set the path to your large audio file\n",
    "audio_path = \"final.wav\" # 1 hour length"
   ]
  },
  {
   "cell_type": "code",
   "execution_count": null,
   "id": "cd8d2bdf",
   "metadata": {},
   "outputs": [],
   "source": [
    "# set the length of each clip in milliseconds (20 seconds in this case)\n",
    "clip_length = 20000"
   ]
  }
 ],
 "metadata": {
  "kernelspec": {
   "display_name": "Python 3 (ipykernel)",
   "language": "python",
   "name": "python3"
  },
  "language_info": {
   "codemirror_mode": {
    "name": "ipython",
    "version": 3
   },
   "file_extension": ".py",
   "mimetype": "text/x-python",
   "name": "python",
   "nbconvert_exporter": "python",
   "pygments_lexer": "ipython3",
   "version": "3.9.13"
  }
 },
 "nbformat": 4,
 "nbformat_minor": 5
}
