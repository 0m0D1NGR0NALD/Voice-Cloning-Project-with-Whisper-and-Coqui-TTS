{
 "cells": [
  {
   "cell_type": "code",
   "execution_count": null,
   "id": "2079457d",
   "metadata": {},
   "outputs": [],
   "source": [
    "!pip install pydub"
   ]
  },
  {
   "cell_type": "code",
   "execution_count": null,
   "id": "7131e2fe",
   "metadata": {},
   "outputs": [],
   "source": [
    "from pydub import AudioSegment\n",
    "import os"
   ]
  },
  {
   "cell_type": "code",
   "execution_count": null,
   "id": "bcad28fc",
   "metadata": {},
   "outputs": [],
   "source": [
    "# set the path to your large audio file\n",
    "audio_path = \"audio.wav\" # 1 hour length"
   ]
  },
  {
   "cell_type": "code",
   "execution_count": null,
   "id": "acec9e18",
   "metadata": {},
   "outputs": [],
   "source": [
    "# set the length of each clip in milliseconds (20 seconds in this case)\n",
    "clip_length = 20000"
   ]
  },
  {
   "cell_type": "code",
   "execution_count": null,
   "id": "54f831c4",
   "metadata": {},
   "outputs": [],
   "source": [
    "# create an AudioSegment object from the audio file\n",
    "audio = AudioSegment.from_file(audio_path)"
   ]
  },
  {
   "cell_type": "code",
   "execution_count": null,
   "id": "28420683",
   "metadata": {},
   "outputs": [],
   "source": [
    "# get the total length of the audio file in milliseconds\n",
    "audio_length = len(audio)"
   ]
  },
  {
   "cell_type": "code",
   "execution_count": null,
   "id": "122de985",
   "metadata": {},
   "outputs": [],
   "source": [
    "# calculate the number of clips we need to create\n",
    "num_clips = int(audio_length/clip_length) + 1"
   ]
  },
  {
   "cell_type": "code",
   "execution_count": null,
   "id": "f6cfadeb",
   "metadata": {},
   "outputs": [],
   "source": [
    "# create a directory to store the clips\n",
    "output_dir = \"Audio\"\n",
    "if not os.path.exists(output_dir):\n",
    "    os.makedirs(output_dir)"
   ]
  }
 ],
 "metadata": {
  "kernelspec": {
   "display_name": "Python 3 (ipykernel)",
   "language": "python",
   "name": "python3"
  },
  "language_info": {
   "codemirror_mode": {
    "name": "ipython",
    "version": 3
   },
   "file_extension": ".py",
   "mimetype": "text/x-python",
   "name": "python",
   "nbconvert_exporter": "python",
   "pygments_lexer": "ipython3",
   "version": "3.9.13"
  }
 },
 "nbformat": 4,
 "nbformat_minor": 5
}
